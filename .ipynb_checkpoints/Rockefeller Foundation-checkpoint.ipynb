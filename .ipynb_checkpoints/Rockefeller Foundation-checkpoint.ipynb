{
 "cells": [
  {
   "cell_type": "markdown",
   "id": "56eb3b99",
   "metadata": {},
   "source": [
    "Ever wondered where records related to a certain topic are located within the hierarchical structure of a large collection? Or where you might find particular kinds of formats, like photographs or moving image materials? What if you could use visual methods to find out more about what's in a collection? This notebook walks you through the process of answering some of those questions."
   ]
  },
  {
   "cell_type": "markdown",
   "id": "e89639d3",
   "metadata": {},
   "source": [
    "# Setup"
   ]
  },
  {
   "cell_type": "markdown",
   "id": "f93a8747",
   "metadata": {},
   "source": [
    "First, we need to import the `requests` library so we can fetch data from the RAC Collections API."
   ]
  },
  {
   "cell_type": "code",
   "execution_count": null,
   "id": "430964cd",
   "metadata": {},
   "outputs": [],
   "source": [
    "import requests"
   ]
  },
  {
   "cell_type": "markdown",
   "id": "cfcf324b",
   "metadata": {},
   "source": [
    "Then, we'll need to "
   ]
  },
  {
   "cell_type": "code",
   "execution_count": null,
   "id": "20f83921",
   "metadata": {},
   "outputs": [],
   "source": []
  }
 ],
 "metadata": {
  "kernelspec": {
   "display_name": "Python 3",
   "language": "python",
   "name": "python3"
  },
  "language_info": {
   "codemirror_mode": {
    "name": "ipython",
    "version": 3
   },
   "file_extension": ".py",
   "mimetype": "text/x-python",
   "name": "python",
   "nbconvert_exporter": "python",
   "pygments_lexer": "ipython3",
   "version": "3.6.11"
  }
 },
 "nbformat": 4,
 "nbformat_minor": 5
}
