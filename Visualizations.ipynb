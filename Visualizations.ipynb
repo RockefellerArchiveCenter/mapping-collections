{
 "cells": [
  {
   "cell_type": "markdown",
   "id": "cbd1999f",
   "metadata": {},
   "source": [
    "## Imports\n",
    "\n",
    "First, we need to import some libraries which we'll use later in our code."
   ]
  },
  {
   "cell_type": "code",
   "execution_count": null,
   "id": "ec5ad4e1",
   "metadata": {},
   "outputs": [],
   "source": [
    "%matplotlib inline\n",
    "\n",
    "import pandas as pd\n",
    "import requests\n",
    "import matplotlib.pyplot as plt\n",
    "import seaborn as sns"
   ]
  },
  {
   "cell_type": "markdown",
   "id": "5f98315d",
   "metadata": {},
   "source": [
    "We'll also create some utility functions which we'll user later on."
   ]
  },
  {
   "cell_type": "code",
   "execution_count": null,
   "id": "20cb7197",
   "metadata": {},
   "outputs": [],
   "source": [
    "def save_file(title):\n",
    "    \"\"\"Saves PNG files to a `visualizations` directory.\"\"\"\n",
    "    filename = title.lower().replace(\" \", \"_\").replace(\"(\", \"\").replace(\")\", \"\")\n",
    "    plt.savefig(f\"visualizations/{filename}_line_graph.png\")"
   ]
  },
  {
   "cell_type": "code",
   "execution_count": null,
   "id": "06e1c19d",
   "metadata": {},
   "outputs": [],
   "source": [
    "def construct_title(subject, collection, start_year=None, end_year=None):\n",
    "    \"\"\"Creates title for visualizations\"\"\"\n",
    "    collection_title = requests.get(f\"https://api.rockarch.org/collections/{collection}\").json()[\"title\"]\n",
    "    if all([start_year, end_year]):\n",
    "        return f\"{subject} {start_year}-{end_year} ({collection_title})\"\n",
    "    return f\"{subject} ({collection_title})\"\n",
    "    "
   ]
  },
  {
   "cell_type": "markdown",
   "id": "7d43ec48",
   "metadata": {},
   "source": [
    "## Single Line Graphs"
   ]
  },
  {
   "cell_type": "markdown",
   "id": "a2a7cb5a",
   "metadata": {},
   "source": [
    "To create a single line graph which plots the occurrence of a given term over time, we'll first need to fetch data from the RAC Collections API."
   ]
  },
  {
   "cell_type": "code",
   "execution_count": null,
   "id": "99b049ef",
   "metadata": {},
   "outputs": [],
   "source": [
    "def get_timeline_data(collection_id, querystrings, start_year, end_year):\n",
    "    \"\"\"Fetch timeline data using the minimap endpoint.\"\"\"\n",
    "    years = []\n",
    "    counts = []\n",
    "    collection = requests.get(f\"https://api.rockarch.org/collections/{collection_id}\").json()\n",
    "    start_year = start_year if start_year else sorted([int(d[\"begin\"]) for d in collection[\"dates\"]])[0]\n",
    "    end_year = end_year if end_year else sorted([int(d[\"end\"]) for d in collection[\"dates\"]])[-1]\n",
    "    dataframe = pd.DataFrame({'year': list(range(start_year, end_year))})\n",
    "    for query in querystrings:\n",
    "        query_counts = []\n",
    "        for year in range(start_year, end_year):\n",
    "            hits = requests.get(f\"https://api.rockarch.org/collections/{collection_id}/minimap\", params={\"query\": query, \"start_date\": year}).json()[\"hits\"]\n",
    "            query_counts.append(len(hits))\n",
    "        dataframe[query] = query_counts\n",
    "    return dataframe"
   ]
  },
  {
   "cell_type": "markdown",
   "id": "53e8bc1d",
   "metadata": {},
   "source": [
    "Then we need to wrap the `get_timeline_data` function in another function which plots that data on a single line."
   ]
  },
  {
   "cell_type": "code",
   "execution_count": null,
   "id": "1fcba084",
   "metadata": {},
   "outputs": [],
   "source": [
    "def draw_lineplot(collection, query, start_year=None, end_year=None):\n",
    "    \"\"\"Draw single lineplot.\"\"\"\n",
    "    single_lineplot_data = get_timeline_data(collection, [query], start_year, end_year)\n",
    "    title = construct_title(query, collection, start_year, end_year)\n",
    "    sns.set_theme(palette=\"bright\", font=\"monospace\")\n",
    "    ax = sns.lineplot(\n",
    "        x=single_lineplot_data['year'],\n",
    "        y=single_lineplot_data[query]).set_title(title)\n",
    "    save_file(title)"
   ]
  },
  {
   "cell_type": "markdown",
   "id": "efbbaef6",
   "metadata": {},
   "source": [
    "Now we can call that `draw_lineplot` function with two arguments.\n",
    "- The first is an identifier for the collection we want to search in.\n",
    "- The second is the the term to be queried for within the collection. It's okay for this value to contain spaces.\n",
    "\n",
    "Note that both arguments are passed as strings (meaning they're wrapped in quotes).\n",
    "\n",
    "You can update one or both of those values and execute the cell below again. Each time you execute it, a PNG version of the graph displayed will be saved to a `visualizations` directory."
   ]
  },
  {
   "cell_type": "code",
   "execution_count": null,
   "id": "5d2cd098",
   "metadata": {
    "scrolled": true
   },
   "outputs": [],
   "source": [
    "draw_lineplot(\"2HnhFZfibK6SVVu86skz3k\", \"exchange\")"
   ]
  },
  {
   "cell_type": "markdown",
   "id": "0bf4c2b2",
   "metadata": {},
   "source": [
    "By default, `draw_lineplot` uses the collection start and end dates as the beginning and end dates of the graph. However, you might want to zoom in on a certain time period. To do this, you can pass `start_year` and/or `end_year` arguments."
   ]
  },
  {
   "cell_type": "code",
   "execution_count": null,
   "id": "8f3e89e5",
   "metadata": {},
   "outputs": [],
   "source": [
    "draw_lineplot(\"2HnhFZfibK6SVVu86skz3k\", \"exchange\", start_year=1950, end_year=1990)"
   ]
  },
  {
   "cell_type": "markdown",
   "id": "5bb3cdfb",
   "metadata": {},
   "source": [
    "## Multiple Line Graphs"
   ]
  },
  {
   "cell_type": "markdown",
   "id": "274914a7",
   "metadata": {},
   "source": [
    "In order to draw multiple lines on a graph, we need to create a new function called `draw_lineplots`. This reuses the `get_timeline_data` function we wrote earlier."
   ]
  },
  {
   "cell_type": "code",
   "execution_count": null,
   "id": "7f0d7a6d",
   "metadata": {},
   "outputs": [],
   "source": [
    "def draw_lineplots(collection, querystrings, subject, start_year=None, end_year=None):\n",
    "    \"\"\"Draw multiple lineplots.\"\"\"\n",
    "    data = get_timeline_data(collection, querystrings, start_year, end_year)\n",
    "    chart_title = construct_title(subject, collection, start_year, end_year)\n",
    "    sns.set_theme(palette=\"bright\", font=\"monospace\")\n",
    "    ax = sns.lineplot(x='year', y='value', hue='variable', \n",
    "             data=pd.melt(data, ['year'])).set_title(chart_title)\n",
    "    save_file(chart_title)"
   ]
  },
  {
   "cell_type": "markdown",
   "id": "4c0637b1",
   "metadata": {},
   "source": [
    "Now we can draw multiple lines on a single graph by passing two arguments to `draw_lineplots`:\n",
    "- The first argument is the identifier of the collection we want to search in. Note that this argument must be passed as a string (wrapped in quotation marks)\n",
    "- The second argument is a list of terms to be queried. It's okay for these terms to have spaces in them. This argument must be passed as a list of strings, or a series of values wrapped in quotes, comma-separated, and contained within brackets.\n",
    "\n",
    "You can update one or both of those values and execute the cell below again. Each time you execute it, a PNG version of the graph displayed will be saved to a visualizations directory."
   ]
  },
  {
   "cell_type": "code",
   "execution_count": null,
   "id": "19f58938",
   "metadata": {},
   "outputs": [],
   "source": [
    "draw_lineplots(\n",
    "    \"2HnhFZfibK6SVVu86skz3k\", \n",
    "    [\"fellowship\", \"scholarship\", \"grants to individuals\", \"training\", \"exchange\"], \n",
    "    \"Funding strategies\")"
   ]
  },
  {
   "cell_type": "markdown",
   "id": "30ba1f2f",
   "metadata": {},
   "source": [
    "By default, `draw_lineplots` uses the collection start and end dates as the beginning and end dates of the graph. However, you might want to zoom in on a certain time period. To do this, you can pass `start_year` and/or `end_year` arguments."
   ]
  },
  {
   "cell_type": "code",
   "execution_count": null,
   "id": "5aa46f80",
   "metadata": {},
   "outputs": [],
   "source": [
    "draw_lineplots(\n",
    "    \"2HnhFZfibK6SVVu86skz3k\", \n",
    "    [\"fellowship\", \"scholarship\", \"grants to individuals\", \"training\", \"exchange\"], \n",
    "    \"Funding strategies\",\n",
    "    start_year=1950,\n",
    "    end_year=2000)"
   ]
  },
  {
   "cell_type": "markdown",
   "id": "aae43e82",
   "metadata": {},
   "source": [
    "## Distribution Heatmaps"
   ]
  },
  {
   "cell_type": "markdown",
   "id": "8be942ef",
   "metadata": {},
   "source": [
    "In order to draw heatmaps which show the distribution of hits over a collection, we need to create a new function which fetches data from the RAC Collections API."
   ]
  },
  {
   "cell_type": "code",
   "execution_count": null,
   "id": "6cb2a221",
   "metadata": {},
   "outputs": [],
   "source": [
    "def get_distribution_data(collection, query, axis_size=12):\n",
    "    \"\"\"Fetch distribution data from the minimap endpoint.\"\"\"\n",
    "    minimap_data = requests.get(\n",
    "        f\"https://api.rockarch.org/collections/{collection}/minimap\", params={\"query\": query}).json()\n",
    "    squares = [0] * (axis_size ** 2)\n",
    "    total_per_square = minimap_data[\"total\"] / (axis_size ** 2)\n",
    "\n",
    "    for hit in minimap_data[\"hits\"]:\n",
    "        square_idx = int((hit[\"index\"] / total_per_square) - 1)\n",
    "        squares[square_idx] += 1\n",
    "\n",
    "    data = [squares[i:i + axis_size] for i in range(0, len(squares), axis_size)]\n",
    "    return data"
   ]
  },
  {
   "cell_type": "markdown",
   "id": "d68fd8a6",
   "metadata": {},
   "source": [
    "Now we can wrap that `get_distribution_data` method in a function which takes that data and draws a heatmap."
   ]
  },
  {
   "cell_type": "code",
   "execution_count": null,
   "id": "c7be303a",
   "metadata": {},
   "outputs": [],
   "source": [
    "def draw_distribution_heatmap(collection, query):\n",
    "    \"\"\"Draw distribution heatmap.\"\"\"\n",
    "    data = get_distribution_data(collection, query)\n",
    "    title = construct_title(query, collection)\n",
    "    sns.set_theme(palette=\"bright\", font=\"monospace\")\n",
    "    sns.heatmap(\n",
    "        data, \n",
    "        cmap=\"Oranges\", \n",
    "        xticklabels=False, \n",
    "        yticklabels=False, \n",
    "        square=True).set_title(title)\n",
    "    save_file(title)"
   ]
  },
  {
   "cell_type": "markdown",
   "id": "f7ea036a",
   "metadata": {},
   "source": [
    "Now we can draw a heatmap by passing two arguments to the `draw_distribution_heatmap` function:\n",
    "- The identifier for a collection we want to search in.\n",
    "- The term we want to query. It's okay for this term to contain spaces.\n",
    "\n",
    "Note that both of these arguments must be passed as strings, in other words, wrapped in quotation marks."
   ]
  },
  {
   "cell_type": "code",
   "execution_count": null,
   "id": "63bb6579",
   "metadata": {},
   "outputs": [],
   "source": [
    "draw_distribution_heatmap(\"WY7fpswEV3oLhyjiArpHES\", \"yellow fever\")"
   ]
  }
 ],
 "metadata": {
  "kernelspec": {
   "display_name": "Python 3",
   "language": "python",
   "name": "python3"
  },
  "language_info": {
   "codemirror_mode": {
    "name": "ipython",
    "version": 3
   },
   "file_extension": ".py",
   "mimetype": "text/x-python",
   "name": "python",
   "nbconvert_exporter": "python",
   "pygments_lexer": "ipython3",
   "version": "3.6.11"
  }
 },
 "nbformat": 4,
 "nbformat_minor": 5
}
